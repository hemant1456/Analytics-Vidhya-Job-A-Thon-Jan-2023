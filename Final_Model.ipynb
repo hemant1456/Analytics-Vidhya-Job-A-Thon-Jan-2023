{
 "cells": [
  {
   "cell_type": "code",
   "execution_count": 1,
   "id": "4d1dad20",
   "metadata": {},
   "outputs": [],
   "source": [
    "# importing required libraries\n",
    "\n",
    "import numpy as np\n",
    "import pandas as pd\n",
    "from sklearn.model_selection import train_test_split\n",
    "from catboost import CatBoostRegressor\n",
    "from sklearn.metrics import mean_squared_error\n",
    "import xgboost as xgb\n",
    "from sklearn.metrics import r2_score"
   ]
  },
  {
   "cell_type": "code",
   "execution_count": 2,
   "id": "fe811b12",
   "metadata": {},
   "outputs": [],
   "source": [
    "train_data= pd.read_csv('train_BRCpofr.csv',index_col=0)\n",
    "test_data= pd.read_csv('test.csv',index_col=0)"
   ]
  },
  {
   "cell_type": "code",
   "execution_count": 3,
   "id": "7a936cfd",
   "metadata": {},
   "outputs": [],
   "source": [
    "train_data.loc[train_data.income =='<=2L','income']= 'less than 2L'\n",
    "test_data.loc[test_data.income =='<=2L','income']= 'less than 2L'"
   ]
  },
  {
   "cell_type": "code",
   "execution_count": 4,
   "id": "daaf830e",
   "metadata": {},
   "outputs": [
    {
     "data": {
      "text/html": [
       "<div>\n",
       "<style scoped>\n",
       "    .dataframe tbody tr th:only-of-type {\n",
       "        vertical-align: middle;\n",
       "    }\n",
       "\n",
       "    .dataframe tbody tr th {\n",
       "        vertical-align: top;\n",
       "    }\n",
       "\n",
       "    .dataframe thead th {\n",
       "        text-align: right;\n",
       "    }\n",
       "</style>\n",
       "<table border=\"1\" class=\"dataframe\">\n",
       "  <thead>\n",
       "    <tr style=\"text-align: right;\">\n",
       "      <th></th>\n",
       "      <th>gender</th>\n",
       "      <th>area</th>\n",
       "      <th>qualification</th>\n",
       "      <th>income</th>\n",
       "      <th>marital_status</th>\n",
       "      <th>vintage</th>\n",
       "      <th>claim_amount</th>\n",
       "      <th>num_policies</th>\n",
       "      <th>policy</th>\n",
       "      <th>type_of_policy</th>\n",
       "      <th>cltv</th>\n",
       "    </tr>\n",
       "    <tr>\n",
       "      <th>id</th>\n",
       "      <th></th>\n",
       "      <th></th>\n",
       "      <th></th>\n",
       "      <th></th>\n",
       "      <th></th>\n",
       "      <th></th>\n",
       "      <th></th>\n",
       "      <th></th>\n",
       "      <th></th>\n",
       "      <th></th>\n",
       "      <th></th>\n",
       "    </tr>\n",
       "  </thead>\n",
       "  <tbody>\n",
       "    <tr>\n",
       "      <th>1</th>\n",
       "      <td>Male</td>\n",
       "      <td>Urban</td>\n",
       "      <td>Bachelor</td>\n",
       "      <td>5L-10L</td>\n",
       "      <td>1</td>\n",
       "      <td>5</td>\n",
       "      <td>5790</td>\n",
       "      <td>More than 1</td>\n",
       "      <td>A</td>\n",
       "      <td>Platinum</td>\n",
       "      <td>64308</td>\n",
       "    </tr>\n",
       "    <tr>\n",
       "      <th>2</th>\n",
       "      <td>Male</td>\n",
       "      <td>Rural</td>\n",
       "      <td>High School</td>\n",
       "      <td>5L-10L</td>\n",
       "      <td>0</td>\n",
       "      <td>8</td>\n",
       "      <td>5080</td>\n",
       "      <td>More than 1</td>\n",
       "      <td>A</td>\n",
       "      <td>Platinum</td>\n",
       "      <td>515400</td>\n",
       "    </tr>\n",
       "    <tr>\n",
       "      <th>3</th>\n",
       "      <td>Male</td>\n",
       "      <td>Urban</td>\n",
       "      <td>Bachelor</td>\n",
       "      <td>5L-10L</td>\n",
       "      <td>1</td>\n",
       "      <td>8</td>\n",
       "      <td>2599</td>\n",
       "      <td>More than 1</td>\n",
       "      <td>A</td>\n",
       "      <td>Platinum</td>\n",
       "      <td>64212</td>\n",
       "    </tr>\n",
       "    <tr>\n",
       "      <th>4</th>\n",
       "      <td>Female</td>\n",
       "      <td>Rural</td>\n",
       "      <td>High School</td>\n",
       "      <td>5L-10L</td>\n",
       "      <td>0</td>\n",
       "      <td>7</td>\n",
       "      <td>0</td>\n",
       "      <td>More than 1</td>\n",
       "      <td>A</td>\n",
       "      <td>Platinum</td>\n",
       "      <td>97920</td>\n",
       "    </tr>\n",
       "    <tr>\n",
       "      <th>5</th>\n",
       "      <td>Male</td>\n",
       "      <td>Urban</td>\n",
       "      <td>High School</td>\n",
       "      <td>More than 10L</td>\n",
       "      <td>1</td>\n",
       "      <td>6</td>\n",
       "      <td>3508</td>\n",
       "      <td>More than 1</td>\n",
       "      <td>A</td>\n",
       "      <td>Gold</td>\n",
       "      <td>59736</td>\n",
       "    </tr>\n",
       "  </tbody>\n",
       "</table>\n",
       "</div>"
      ],
      "text/plain": [
       "    gender   area qualification         income  marital_status  vintage  \\\n",
       "id                                                                        \n",
       "1     Male  Urban      Bachelor         5L-10L               1        5   \n",
       "2     Male  Rural   High School         5L-10L               0        8   \n",
       "3     Male  Urban      Bachelor         5L-10L               1        8   \n",
       "4   Female  Rural   High School         5L-10L               0        7   \n",
       "5     Male  Urban   High School  More than 10L               1        6   \n",
       "\n",
       "    claim_amount num_policies policy type_of_policy    cltv  \n",
       "id                                                           \n",
       "1           5790  More than 1      A       Platinum   64308  \n",
       "2           5080  More than 1      A       Platinum  515400  \n",
       "3           2599  More than 1      A       Platinum   64212  \n",
       "4              0  More than 1      A       Platinum   97920  \n",
       "5           3508  More than 1      A           Gold   59736  "
      ]
     },
     "execution_count": 4,
     "metadata": {},
     "output_type": "execute_result"
    }
   ],
   "source": [
    "train_data.head(5)"
   ]
  },
  {
   "cell_type": "code",
   "execution_count": 5,
   "id": "10192a15",
   "metadata": {},
   "outputs": [],
   "source": [
    "train_data.marital_status= train_data.marital_status.astype('str')\n",
    "test_data.marital_status= test_data.marital_status.astype('str')"
   ]
  },
  {
   "cell_type": "code",
   "execution_count": 6,
   "id": "3c9d753c",
   "metadata": {},
   "outputs": [],
   "source": [
    "# Removing duplicates\n",
    "train_data = train_data.drop_duplicates()"
   ]
  },
  {
   "cell_type": "code",
   "execution_count": 7,
   "id": "29ed68bc",
   "metadata": {},
   "outputs": [],
   "source": [
    "y = train_data.pop('cltv')"
   ]
  },
  {
   "cell_type": "code",
   "execution_count": 8,
   "id": "4c8e0f02",
   "metadata": {},
   "outputs": [],
   "source": [
    "categorical_columns= train_data.select_dtypes('object').columns"
   ]
  },
  {
   "cell_type": "code",
   "execution_count": 9,
   "id": "e34007b7",
   "metadata": {},
   "outputs": [],
   "source": [
    "X_train, X_test, y_train, y_test = train_test_split(train_data, y, test_size=0.25, random_state=22)"
   ]
  },
  {
   "cell_type": "code",
   "execution_count": 10,
   "id": "20a095ab",
   "metadata": {},
   "outputs": [
    {
     "data": {
      "application/vnd.jupyter.widget-view+json": {
       "model_id": "077bf214123746259bf4cac8609d789d",
       "version_major": 2,
       "version_minor": 0
      },
      "text/plain": [
       "MetricVisualizer(layout=Layout(align_self='stretch', height='500px'))"
      ]
     },
     "metadata": {},
     "output_type": "display_data"
    },
    {
     "name": "stdout",
     "output_type": "stream",
     "text": [
      "RMSE:  82213.62074182871\n"
     ]
    },
    {
     "data": {
      "text/plain": [
       "0.1653480364856783"
      ]
     },
     "execution_count": 10,
     "metadata": {},
     "output_type": "execute_result"
    }
   ],
   "source": [
    "from catboost import CatBoostRegressor\n",
    "import numpy as np\n",
    "\n",
    "\n",
    "# initialize the model\n",
    "cat_model = CatBoostRegressor(iterations=1400, learning_rate=0.01, depth=5,\\\n",
    "                          loss_function='RMSE', cat_features=list(categorical_columns))\n",
    "\n",
    "# fit the model on the training data\n",
    "cat_model.fit(X_train, y_train, eval_set=(X_test, y_test), logging_level='Silent',plot=True)\n",
    "\n",
    "# make predictions on the test set\n",
    "y_pred = cat_model.predict(X_test)\n",
    "\n",
    "# evaluate the model\n",
    "\n",
    "rmse = np.sqrt(mean_squared_error(y_test, y_pred))\n",
    "print(\"RMSE: \", rmse)\n",
    "\n",
    "r2_score(y_test, y_pred)"
   ]
  },
  {
   "cell_type": "code",
   "execution_count": 11,
   "id": "27d63d57",
   "metadata": {},
   "outputs": [
    {
     "data": {
      "text/html": [
       "<div>\n",
       "<style scoped>\n",
       "    .dataframe tbody tr th:only-of-type {\n",
       "        vertical-align: middle;\n",
       "    }\n",
       "\n",
       "    .dataframe tbody tr th {\n",
       "        vertical-align: top;\n",
       "    }\n",
       "\n",
       "    .dataframe thead th {\n",
       "        text-align: right;\n",
       "    }\n",
       "</style>\n",
       "<table border=\"1\" class=\"dataframe\">\n",
       "  <thead>\n",
       "    <tr style=\"text-align: right;\">\n",
       "      <th></th>\n",
       "      <th>feature</th>\n",
       "      <th>importance</th>\n",
       "    </tr>\n",
       "  </thead>\n",
       "  <tbody>\n",
       "    <tr>\n",
       "      <th>0</th>\n",
       "      <td>num_policies</td>\n",
       "      <td>80.850248</td>\n",
       "    </tr>\n",
       "    <tr>\n",
       "      <th>1</th>\n",
       "      <td>claim_amount</td>\n",
       "      <td>7.883702</td>\n",
       "    </tr>\n",
       "    <tr>\n",
       "      <th>2</th>\n",
       "      <td>policy</td>\n",
       "      <td>3.348487</td>\n",
       "    </tr>\n",
       "    <tr>\n",
       "      <th>3</th>\n",
       "      <td>area</td>\n",
       "      <td>3.186376</td>\n",
       "    </tr>\n",
       "    <tr>\n",
       "      <th>4</th>\n",
       "      <td>marital_status</td>\n",
       "      <td>1.313141</td>\n",
       "    </tr>\n",
       "    <tr>\n",
       "      <th>5</th>\n",
       "      <td>income</td>\n",
       "      <td>1.249338</td>\n",
       "    </tr>\n",
       "    <tr>\n",
       "      <th>6</th>\n",
       "      <td>qualification</td>\n",
       "      <td>0.767325</td>\n",
       "    </tr>\n",
       "    <tr>\n",
       "      <th>7</th>\n",
       "      <td>gender</td>\n",
       "      <td>0.570694</td>\n",
       "    </tr>\n",
       "    <tr>\n",
       "      <th>8</th>\n",
       "      <td>type_of_policy</td>\n",
       "      <td>0.476525</td>\n",
       "    </tr>\n",
       "    <tr>\n",
       "      <th>9</th>\n",
       "      <td>vintage</td>\n",
       "      <td>0.354164</td>\n",
       "    </tr>\n",
       "  </tbody>\n",
       "</table>\n",
       "</div>"
      ],
      "text/plain": [
       "          feature  importance\n",
       "0    num_policies   80.850248\n",
       "1    claim_amount    7.883702\n",
       "2          policy    3.348487\n",
       "3            area    3.186376\n",
       "4  marital_status    1.313141\n",
       "5          income    1.249338\n",
       "6   qualification    0.767325\n",
       "7          gender    0.570694\n",
       "8  type_of_policy    0.476525\n",
       "9         vintage    0.354164"
      ]
     },
     "execution_count": 11,
     "metadata": {},
     "output_type": "execute_result"
    }
   ],
   "source": [
    "# seeing important features\n",
    "feature_importance= pd.DataFrame({'feature':X_train.columns,'importance':cat_model.feature_importances_})\n",
    "feature_importance.sort_values(by='importance',ascending=False)[:10].reset_index(drop=['id'])"
   ]
  },
  {
   "cell_type": "markdown",
   "id": "6d3a6999",
   "metadata": {},
   "source": [
    "Num of policies and Claim amount as major factor in prediction was also predicted during data exploration."
   ]
  },
  {
   "cell_type": "code",
   "execution_count": 12,
   "id": "853f533a",
   "metadata": {},
   "outputs": [],
   "source": [
    "prediction= cat_model.predict(test_data)\n",
    "\n",
    "submission = pd.DataFrame({'id':test_data.index,'cltv':prediction})\n",
    "\n",
    "submission.to_csv('final_submission.csv',index=False)"
   ]
  }
 ],
 "metadata": {
  "kernelspec": {
   "display_name": "Python 3 (ipykernel)",
   "language": "python",
   "name": "python3"
  },
  "language_info": {
   "codemirror_mode": {
    "name": "ipython",
    "version": 3
   },
   "file_extension": ".py",
   "mimetype": "text/x-python",
   "name": "python",
   "nbconvert_exporter": "python",
   "pygments_lexer": "ipython3",
   "version": "3.9.13"
  }
 },
 "nbformat": 4,
 "nbformat_minor": 5
}
