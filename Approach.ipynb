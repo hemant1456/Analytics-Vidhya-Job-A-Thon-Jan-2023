{
 "cells": [
  {
   "cell_type": "markdown",
   "id": "4166db8f",
   "metadata": {},
   "source": [
    "# Details of Files Present"
   ]
  },
  {
   "cell_type": "markdown",
   "id": "1517cc2e",
   "metadata": {},
   "source": [
    "1. \"Data_Exploration.ipynb\"    =>   This Notebook explores the dataset\n",
    "2. \"Data_Preprocessing.ipynb\"  => processing of our data to make it suitable for modelling\n",
    "3. \"Modelling.ipynb\"           => tested various models here\n",
    "4. \"Alternative_Approach.ipynb\" => An alternative approach to our problem\n",
    "5. \"Final_Model.ipynb\"        => this is the final file and can be used to generate scores similar to what i was able to produce on leaderboard."
   ]
  },
  {
   "cell_type": "markdown",
   "id": "751745fb",
   "metadata": {},
   "source": [
    "# Objective"
   ]
  },
  {
   "cell_type": "markdown",
   "id": "4d1b42c2",
   "metadata": {},
   "source": [
    "The objective was to design a machine learning model to predict the Customer Lifetime Value based on user and policy data.Customer Lifetime Value (CLTV) is a prediction of the total monetary value a customer will bring to a company over their lifetime, for example, the projected revenue from all their purchases."
   ]
  },
  {
   "cell_type": "markdown",
   "id": "ec4a4290",
   "metadata": {},
   "source": [
    "# Findings from Exploration of Data"
   ]
  },
  {
   "cell_type": "markdown",
   "id": "fafbc5cc",
   "metadata": {},
   "source": [
    "1. Our dataset includes duplicate entries (totaling 26).\n",
    "2. There are over 12,000 duplicated entries, with varying target variables, which can significantly decrease the model's ability to learn and may indicate the presence of external factors.\n",
    "3. The distribution of 'CLTV' is heavily skewed to the left, and using 'R-squared' as an accuracy metric may negatively impact the model's performance.\n",
    "4. The data demonstrates a higher proportion of individuals residing in urban areas, with an income between 5L-10L, holding multiple policies, and predominantly purchasing A policies of the Platinum type.\n",
    "5. Both the number of policies and the customer's area of residence have a significant impact on their CLTV.\n",
    "6. There is a notable correlation between claim amount and CLTV."
   ]
  },
  {
   "cell_type": "markdown",
   "id": "46577438",
   "metadata": {},
   "source": [
    "# Data Processing"
   ]
  },
  {
   "cell_type": "markdown",
   "id": "81efd9ed",
   "metadata": {},
   "source": [
    "1. I began by eliminating 26 duplicate entries.\n",
    "2. I applied a feature engineering function to improve the suitability of the income and marital status columns for analysis.\n",
    "3. I scaled numerical columns to prevent disproportionate influence on the models.\n",
    "4. I employed the Pandas \"dummy\" function to one-hot encode the data.\n",
    "5. Despite initial efforts, feature engineering did not yield significant improvements, so I abandoned the approach."
   ]
  },
  {
   "cell_type": "markdown",
   "id": "99616d93",
   "metadata": {},
   "source": [
    "# Modelling"
   ]
  },
  {
   "cell_type": "markdown",
   "id": "5abd86dc",
   "metadata": {},
   "source": [
    "1. Different models were evaluated for their ability to accurately predict Customer Lifetime Value.\n",
    "2. The CatBoost and XGBRF models demonstrated improved performance compared to other models, but there was little distinction between them.\n",
    "3. Attempts to fine-tune model parameters did not result in any notable improvements.\n",
    "4. Stacking of various models was able to improve performance marginally. "
   ]
  },
  {
   "cell_type": "markdown",
   "id": "d70dc0fb",
   "metadata": {},
   "source": [
    "# Final Model"
   ]
  },
  {
   "cell_type": "markdown",
   "id": "1847d8dd",
   "metadata": {},
   "source": [
    "1. The CatBoost model was chosen for its superior accuracy and interpretability. Stacking models were not selected as interpretability was prioritized.\n",
    "2. The model's interpretability is further improved by highlighting the importance of different features.\n",
    "3. The CatBoost model required minimal preprocessing and additional feature engineering did not significantly enhance performance, therefore it was not implemented.\n",
    "4. The final model can be found in the \"Final_Model.ipynb\" file."
   ]
  },
  {
   "cell_type": "markdown",
   "id": "d32f5c36",
   "metadata": {},
   "source": [
    "# Suggestions"
   ]
  },
  {
   "cell_type": "markdown",
   "id": "d647c7d2",
   "metadata": {},
   "source": [
    "1. The presence of duplicate features suggests that other important variables may be impacting the results. One suggestion would be to incorporate new features such as age, employment type, and policy pricing, as these could significantly enhance the model's predictive abilities.\n",
    "2. Additionally, it may be beneficial to categorize 'CLTV' into ranges. This approach is detailed in the notebook titled \"Alternative_Approach\""
   ]
  },
  {
   "cell_type": "markdown",
   "id": "902a16e9",
   "metadata": {},
   "source": [
    "# Thanks"
   ]
  },
  {
   "cell_type": "markdown",
   "id": "5f83c4c7",
   "metadata": {},
   "source": [
    "1. Github Repository link- https://github.com/hemant1456/Analytics-Vidhya-Job-A-Thon-Jan-2023\n",
    "2. My LinkedIn profile - https://www.linkedin.com/in/hemantbhambhu/\n",
    "3. Sometimes I write on 'Medium' about data science and other things- https://medium.com/@hemantbhambhu"
   ]
  }
 ],
 "metadata": {
  "kernelspec": {
   "display_name": "Python 3 (ipykernel)",
   "language": "python",
   "name": "python3"
  },
  "language_info": {
   "codemirror_mode": {
    "name": "ipython",
    "version": 3
   },
   "file_extension": ".py",
   "mimetype": "text/x-python",
   "name": "python",
   "nbconvert_exporter": "python",
   "pygments_lexer": "ipython3",
   "version": "3.9.13"
  }
 },
 "nbformat": 4,
 "nbformat_minor": 5
}
