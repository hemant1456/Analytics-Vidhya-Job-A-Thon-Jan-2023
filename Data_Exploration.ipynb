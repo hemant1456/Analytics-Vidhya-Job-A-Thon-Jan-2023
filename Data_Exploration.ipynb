{
 "cells": [
  {
   "cell_type": "code",
   "execution_count": 1,
   "id": "d262d9ed",
   "metadata": {},
   "outputs": [],
   "source": [
    "import pandas as pd\n",
    "import matplotlib.pyplot as plt\n",
    "import seaborn as sns"
   ]
  },
  {
   "cell_type": "code",
   "execution_count": 20,
   "id": "794fbaf1",
   "metadata": {},
   "outputs": [],
   "source": [
    "df= pd.read_csv('train_BRCpofr.csv',index_col=0)"
   ]
  },
  {
   "cell_type": "code",
   "execution_count": 21,
   "id": "efb58e09",
   "metadata": {},
   "outputs": [
    {
     "data": {
      "text/html": [
       "<div>\n",
       "<style scoped>\n",
       "    .dataframe tbody tr th:only-of-type {\n",
       "        vertical-align: middle;\n",
       "    }\n",
       "\n",
       "    .dataframe tbody tr th {\n",
       "        vertical-align: top;\n",
       "    }\n",
       "\n",
       "    .dataframe thead th {\n",
       "        text-align: right;\n",
       "    }\n",
       "</style>\n",
       "<table border=\"1\" class=\"dataframe\">\n",
       "  <thead>\n",
       "    <tr style=\"text-align: right;\">\n",
       "      <th></th>\n",
       "      <th>gender</th>\n",
       "      <th>area</th>\n",
       "      <th>qualification</th>\n",
       "      <th>income</th>\n",
       "      <th>marital_status</th>\n",
       "      <th>vintage</th>\n",
       "      <th>claim_amount</th>\n",
       "      <th>num_policies</th>\n",
       "      <th>policy</th>\n",
       "      <th>type_of_policy</th>\n",
       "      <th>cltv</th>\n",
       "    </tr>\n",
       "    <tr>\n",
       "      <th>id</th>\n",
       "      <th></th>\n",
       "      <th></th>\n",
       "      <th></th>\n",
       "      <th></th>\n",
       "      <th></th>\n",
       "      <th></th>\n",
       "      <th></th>\n",
       "      <th></th>\n",
       "      <th></th>\n",
       "      <th></th>\n",
       "      <th></th>\n",
       "    </tr>\n",
       "  </thead>\n",
       "  <tbody>\n",
       "    <tr>\n",
       "      <th>34376</th>\n",
       "      <td>Female</td>\n",
       "      <td>Rural</td>\n",
       "      <td>Bachelor</td>\n",
       "      <td>5L-10L</td>\n",
       "      <td>1</td>\n",
       "      <td>4</td>\n",
       "      <td>0</td>\n",
       "      <td>More than 1</td>\n",
       "      <td>A</td>\n",
       "      <td>Platinum</td>\n",
       "      <td>58764</td>\n",
       "    </tr>\n",
       "    <tr>\n",
       "      <th>67917</th>\n",
       "      <td>Female</td>\n",
       "      <td>Rural</td>\n",
       "      <td>Bachelor</td>\n",
       "      <td>5L-10L</td>\n",
       "      <td>1</td>\n",
       "      <td>4</td>\n",
       "      <td>0</td>\n",
       "      <td>More than 1</td>\n",
       "      <td>A</td>\n",
       "      <td>Platinum</td>\n",
       "      <td>58764</td>\n",
       "    </tr>\n",
       "    <tr>\n",
       "      <th>29854</th>\n",
       "      <td>Female</td>\n",
       "      <td>Rural</td>\n",
       "      <td>Bachelor</td>\n",
       "      <td>5L-10L</td>\n",
       "      <td>1</td>\n",
       "      <td>5</td>\n",
       "      <td>0</td>\n",
       "      <td>1</td>\n",
       "      <td>B</td>\n",
       "      <td>Platinum</td>\n",
       "      <td>33504</td>\n",
       "    </tr>\n",
       "    <tr>\n",
       "      <th>79914</th>\n",
       "      <td>Female</td>\n",
       "      <td>Rural</td>\n",
       "      <td>Bachelor</td>\n",
       "      <td>5L-10L</td>\n",
       "      <td>1</td>\n",
       "      <td>5</td>\n",
       "      <td>0</td>\n",
       "      <td>1</td>\n",
       "      <td>B</td>\n",
       "      <td>Platinum</td>\n",
       "      <td>33504</td>\n",
       "    </tr>\n",
       "  </tbody>\n",
       "</table>\n",
       "</div>"
      ],
      "text/plain": [
       "       gender   area qualification  income  marital_status  vintage  \\\n",
       "id                                                                    \n",
       "34376  Female  Rural      Bachelor  5L-10L               1        4   \n",
       "67917  Female  Rural      Bachelor  5L-10L               1        4   \n",
       "29854  Female  Rural      Bachelor  5L-10L               1        5   \n",
       "79914  Female  Rural      Bachelor  5L-10L               1        5   \n",
       "\n",
       "       claim_amount num_policies policy type_of_policy   cltv  \n",
       "id                                                             \n",
       "34376             0  More than 1      A       Platinum  58764  \n",
       "67917             0  More than 1      A       Platinum  58764  \n",
       "29854             0            1      B       Platinum  33504  \n",
       "79914             0            1      B       Platinum  33504  "
      ]
     },
     "execution_count": 21,
     "metadata": {},
     "output_type": "execute_result"
    }
   ],
   "source": [
    "df[df.duplicated(keep=False)].sort_values(by=list(df.columns)).head(4)"
   ]
  },
  {
   "cell_type": "markdown",
   "id": "d0476d6d",
   "metadata": {},
   "source": [
    " Our data contains duplicated values"
   ]
  },
  {
   "cell_type": "code",
   "execution_count": 22,
   "id": "1e4670a3",
   "metadata": {},
   "outputs": [
    {
     "data": {
      "text/plain": [
       "26"
      ]
     },
     "execution_count": 22,
     "metadata": {},
     "output_type": "execute_result"
    }
   ],
   "source": [
    "sum(df.duplicated())"
   ]
  },
  {
   "cell_type": "markdown",
   "id": "38dccca7",
   "metadata": {},
   "source": [
    "There are 26 duplicate entries in our data, let's drop them"
   ]
  },
  {
   "cell_type": "code",
   "execution_count": 23,
   "id": "4eb6417f",
   "metadata": {},
   "outputs": [],
   "source": [
    "df= df.drop_duplicates()"
   ]
  },
  {
   "cell_type": "code",
   "execution_count": 24,
   "id": "38f31399",
   "metadata": {},
   "outputs": [],
   "source": [
    "y= df.cltv\n",
    "X = df.drop('cltv',axis=1).copy()"
   ]
  },
  {
   "cell_type": "code",
   "execution_count": 25,
   "id": "1764109b",
   "metadata": {},
   "outputs": [
    {
     "data": {
      "text/plain": [
       "12714"
      ]
     },
     "execution_count": 25,
     "metadata": {},
     "output_type": "execute_result"
    }
   ],
   "source": [
    "sum(X.duplicated())"
   ]
  },
  {
   "cell_type": "code",
   "execution_count": 26,
   "id": "73268f41",
   "metadata": {},
   "outputs": [
    {
     "data": {
      "text/html": [
       "<div>\n",
       "<style scoped>\n",
       "    .dataframe tbody tr th:only-of-type {\n",
       "        vertical-align: middle;\n",
       "    }\n",
       "\n",
       "    .dataframe tbody tr th {\n",
       "        vertical-align: top;\n",
       "    }\n",
       "\n",
       "    .dataframe thead th {\n",
       "        text-align: right;\n",
       "    }\n",
       "</style>\n",
       "<table border=\"1\" class=\"dataframe\">\n",
       "  <thead>\n",
       "    <tr style=\"text-align: right;\">\n",
       "      <th></th>\n",
       "      <th>gender</th>\n",
       "      <th>area</th>\n",
       "      <th>qualification</th>\n",
       "      <th>income</th>\n",
       "      <th>marital_status</th>\n",
       "      <th>vintage</th>\n",
       "      <th>claim_amount</th>\n",
       "      <th>num_policies</th>\n",
       "      <th>policy</th>\n",
       "      <th>type_of_policy</th>\n",
       "    </tr>\n",
       "    <tr>\n",
       "      <th>id</th>\n",
       "      <th></th>\n",
       "      <th></th>\n",
       "      <th></th>\n",
       "      <th></th>\n",
       "      <th></th>\n",
       "      <th></th>\n",
       "      <th></th>\n",
       "      <th></th>\n",
       "      <th></th>\n",
       "      <th></th>\n",
       "    </tr>\n",
       "  </thead>\n",
       "  <tbody>\n",
       "    <tr>\n",
       "      <th>2401</th>\n",
       "      <td>Female</td>\n",
       "      <td>Rural</td>\n",
       "      <td>Bachelor</td>\n",
       "      <td>2L-5L</td>\n",
       "      <td>0</td>\n",
       "      <td>0</td>\n",
       "      <td>0</td>\n",
       "      <td>More than 1</td>\n",
       "      <td>B</td>\n",
       "      <td>Platinum</td>\n",
       "    </tr>\n",
       "    <tr>\n",
       "      <th>26752</th>\n",
       "      <td>Female</td>\n",
       "      <td>Rural</td>\n",
       "      <td>Bachelor</td>\n",
       "      <td>2L-5L</td>\n",
       "      <td>0</td>\n",
       "      <td>0</td>\n",
       "      <td>0</td>\n",
       "      <td>More than 1</td>\n",
       "      <td>B</td>\n",
       "      <td>Platinum</td>\n",
       "    </tr>\n",
       "    <tr>\n",
       "      <th>29120</th>\n",
       "      <td>Female</td>\n",
       "      <td>Rural</td>\n",
       "      <td>Bachelor</td>\n",
       "      <td>2L-5L</td>\n",
       "      <td>0</td>\n",
       "      <td>0</td>\n",
       "      <td>0</td>\n",
       "      <td>More than 1</td>\n",
       "      <td>B</td>\n",
       "      <td>Platinum</td>\n",
       "    </tr>\n",
       "    <tr>\n",
       "      <th>79488</th>\n",
       "      <td>Female</td>\n",
       "      <td>Rural</td>\n",
       "      <td>Bachelor</td>\n",
       "      <td>2L-5L</td>\n",
       "      <td>0</td>\n",
       "      <td>0</td>\n",
       "      <td>0</td>\n",
       "      <td>More than 1</td>\n",
       "      <td>B</td>\n",
       "      <td>Platinum</td>\n",
       "    </tr>\n",
       "    <tr>\n",
       "      <th>17464</th>\n",
       "      <td>Female</td>\n",
       "      <td>Rural</td>\n",
       "      <td>Bachelor</td>\n",
       "      <td>2L-5L</td>\n",
       "      <td>0</td>\n",
       "      <td>2</td>\n",
       "      <td>0</td>\n",
       "      <td>More than 1</td>\n",
       "      <td>A</td>\n",
       "      <td>Platinum</td>\n",
       "    </tr>\n",
       "  </tbody>\n",
       "</table>\n",
       "</div>"
      ],
      "text/plain": [
       "       gender   area qualification income  marital_status  vintage  \\\n",
       "id                                                                   \n",
       "2401   Female  Rural      Bachelor  2L-5L               0        0   \n",
       "26752  Female  Rural      Bachelor  2L-5L               0        0   \n",
       "29120  Female  Rural      Bachelor  2L-5L               0        0   \n",
       "79488  Female  Rural      Bachelor  2L-5L               0        0   \n",
       "17464  Female  Rural      Bachelor  2L-5L               0        2   \n",
       "\n",
       "       claim_amount num_policies policy type_of_policy  \n",
       "id                                                      \n",
       "2401              0  More than 1      B       Platinum  \n",
       "26752             0  More than 1      B       Platinum  \n",
       "29120             0  More than 1      B       Platinum  \n",
       "79488             0  More than 1      B       Platinum  \n",
       "17464             0  More than 1      A       Platinum  "
      ]
     },
     "execution_count": 26,
     "metadata": {},
     "output_type": "execute_result"
    }
   ],
   "source": [
    "X[X.duplicated(keep=False)].sort_values(by=list(X.columns)).head()"
   ]
  },
  {
   "cell_type": "markdown",
   "id": "d080584d",
   "metadata": {},
   "source": [
    "There are more than 12000 duplicated entry, with different target variable. This will introduce large errors in our model as it will affect ability of model to learn. It also indicate influence of outside variables"
   ]
  },
  {
   "cell_type": "code",
   "execution_count": 27,
   "id": "babd8be6",
   "metadata": {},
   "outputs": [
    {
     "data": {
      "text/html": [
       "<div>\n",
       "<style scoped>\n",
       "    .dataframe tbody tr th:only-of-type {\n",
       "        vertical-align: middle;\n",
       "    }\n",
       "\n",
       "    .dataframe tbody tr th {\n",
       "        vertical-align: top;\n",
       "    }\n",
       "\n",
       "    .dataframe thead th {\n",
       "        text-align: right;\n",
       "    }\n",
       "</style>\n",
       "<table border=\"1\" class=\"dataframe\">\n",
       "  <thead>\n",
       "    <tr style=\"text-align: right;\">\n",
       "      <th></th>\n",
       "      <th>gender</th>\n",
       "      <th>area</th>\n",
       "      <th>qualification</th>\n",
       "      <th>income</th>\n",
       "      <th>marital_status</th>\n",
       "      <th>vintage</th>\n",
       "      <th>claim_amount</th>\n",
       "      <th>num_policies</th>\n",
       "      <th>policy</th>\n",
       "      <th>type_of_policy</th>\n",
       "    </tr>\n",
       "    <tr>\n",
       "      <th>id</th>\n",
       "      <th></th>\n",
       "      <th></th>\n",
       "      <th></th>\n",
       "      <th></th>\n",
       "      <th></th>\n",
       "      <th></th>\n",
       "      <th></th>\n",
       "      <th></th>\n",
       "      <th></th>\n",
       "      <th></th>\n",
       "    </tr>\n",
       "  </thead>\n",
       "  <tbody>\n",
       "    <tr>\n",
       "      <th>102094</th>\n",
       "      <td>Female</td>\n",
       "      <td>Rural</td>\n",
       "      <td>Bachelor</td>\n",
       "      <td>2L-5L</td>\n",
       "      <td>0</td>\n",
       "      <td>2</td>\n",
       "      <td>0</td>\n",
       "      <td>More than 1</td>\n",
       "      <td>A</td>\n",
       "      <td>Platinum</td>\n",
       "    </tr>\n",
       "    <tr>\n",
       "      <th>125691</th>\n",
       "      <td>Female</td>\n",
       "      <td>Rural</td>\n",
       "      <td>Bachelor</td>\n",
       "      <td>2L-5L</td>\n",
       "      <td>0</td>\n",
       "      <td>2</td>\n",
       "      <td>0</td>\n",
       "      <td>More than 1</td>\n",
       "      <td>A</td>\n",
       "      <td>Platinum</td>\n",
       "    </tr>\n",
       "    <tr>\n",
       "      <th>93182</th>\n",
       "      <td>Female</td>\n",
       "      <td>Rural</td>\n",
       "      <td>Bachelor</td>\n",
       "      <td>2L-5L</td>\n",
       "      <td>0</td>\n",
       "      <td>2</td>\n",
       "      <td>0</td>\n",
       "      <td>More than 1</td>\n",
       "      <td>A</td>\n",
       "      <td>Silver</td>\n",
       "    </tr>\n",
       "    <tr>\n",
       "      <th>142815</th>\n",
       "      <td>Female</td>\n",
       "      <td>Rural</td>\n",
       "      <td>Bachelor</td>\n",
       "      <td>2L-5L</td>\n",
       "      <td>0</td>\n",
       "      <td>2</td>\n",
       "      <td>0</td>\n",
       "      <td>More than 1</td>\n",
       "      <td>A</td>\n",
       "      <td>Silver</td>\n",
       "    </tr>\n",
       "    <tr>\n",
       "      <th>101583</th>\n",
       "      <td>Female</td>\n",
       "      <td>Rural</td>\n",
       "      <td>Bachelor</td>\n",
       "      <td>2L-5L</td>\n",
       "      <td>0</td>\n",
       "      <td>3</td>\n",
       "      <td>0</td>\n",
       "      <td>More than 1</td>\n",
       "      <td>A</td>\n",
       "      <td>Platinum</td>\n",
       "    </tr>\n",
       "    <tr>\n",
       "      <th>...</th>\n",
       "      <td>...</td>\n",
       "      <td>...</td>\n",
       "      <td>...</td>\n",
       "      <td>...</td>\n",
       "      <td>...</td>\n",
       "      <td>...</td>\n",
       "      <td>...</td>\n",
       "      <td>...</td>\n",
       "      <td>...</td>\n",
       "      <td>...</td>\n",
       "    </tr>\n",
       "    <tr>\n",
       "      <th>138709</th>\n",
       "      <td>Male</td>\n",
       "      <td>Urban</td>\n",
       "      <td>Others</td>\n",
       "      <td>5L-10L</td>\n",
       "      <td>1</td>\n",
       "      <td>7</td>\n",
       "      <td>0</td>\n",
       "      <td>1</td>\n",
       "      <td>A</td>\n",
       "      <td>Gold</td>\n",
       "    </tr>\n",
       "    <tr>\n",
       "      <th>110149</th>\n",
       "      <td>Male</td>\n",
       "      <td>Urban</td>\n",
       "      <td>Others</td>\n",
       "      <td>5L-10L</td>\n",
       "      <td>1</td>\n",
       "      <td>8</td>\n",
       "      <td>0</td>\n",
       "      <td>1</td>\n",
       "      <td>B</td>\n",
       "      <td>Platinum</td>\n",
       "    </tr>\n",
       "    <tr>\n",
       "      <th>125399</th>\n",
       "      <td>Male</td>\n",
       "      <td>Urban</td>\n",
       "      <td>Others</td>\n",
       "      <td>5L-10L</td>\n",
       "      <td>1</td>\n",
       "      <td>8</td>\n",
       "      <td>0</td>\n",
       "      <td>1</td>\n",
       "      <td>B</td>\n",
       "      <td>Platinum</td>\n",
       "    </tr>\n",
       "    <tr>\n",
       "      <th>94621</th>\n",
       "      <td>Male</td>\n",
       "      <td>Urban</td>\n",
       "      <td>Others</td>\n",
       "      <td>More than 10L</td>\n",
       "      <td>1</td>\n",
       "      <td>5</td>\n",
       "      <td>0</td>\n",
       "      <td>1</td>\n",
       "      <td>A</td>\n",
       "      <td>Platinum</td>\n",
       "    </tr>\n",
       "    <tr>\n",
       "      <th>115710</th>\n",
       "      <td>Male</td>\n",
       "      <td>Urban</td>\n",
       "      <td>Others</td>\n",
       "      <td>More than 10L</td>\n",
       "      <td>1</td>\n",
       "      <td>5</td>\n",
       "      <td>0</td>\n",
       "      <td>1</td>\n",
       "      <td>A</td>\n",
       "      <td>Platinum</td>\n",
       "    </tr>\n",
       "  </tbody>\n",
       "</table>\n",
       "<p>9904 rows × 10 columns</p>\n",
       "</div>"
      ],
      "text/plain": [
       "        gender   area qualification         income  marital_status  vintage  \\\n",
       "id                                                                            \n",
       "102094  Female  Rural      Bachelor          2L-5L               0        2   \n",
       "125691  Female  Rural      Bachelor          2L-5L               0        2   \n",
       "93182   Female  Rural      Bachelor          2L-5L               0        2   \n",
       "142815  Female  Rural      Bachelor          2L-5L               0        2   \n",
       "101583  Female  Rural      Bachelor          2L-5L               0        3   \n",
       "...        ...    ...           ...            ...             ...      ...   \n",
       "138709    Male  Urban        Others         5L-10L               1        7   \n",
       "110149    Male  Urban        Others         5L-10L               1        8   \n",
       "125399    Male  Urban        Others         5L-10L               1        8   \n",
       "94621     Male  Urban        Others  More than 10L               1        5   \n",
       "115710    Male  Urban        Others  More than 10L               1        5   \n",
       "\n",
       "        claim_amount num_policies policy type_of_policy  \n",
       "id                                                       \n",
       "102094             0  More than 1      A       Platinum  \n",
       "125691             0  More than 1      A       Platinum  \n",
       "93182              0  More than 1      A         Silver  \n",
       "142815             0  More than 1      A         Silver  \n",
       "101583             0  More than 1      A       Platinum  \n",
       "...              ...          ...    ...            ...  \n",
       "138709             0            1      A           Gold  \n",
       "110149             0            1      B       Platinum  \n",
       "125399             0            1      B       Platinum  \n",
       "94621              0            1      A       Platinum  \n",
       "115710             0            1      A       Platinum  \n",
       "\n",
       "[9904 rows x 10 columns]"
      ]
     },
     "execution_count": 27,
     "metadata": {},
     "output_type": "execute_result"
    }
   ],
   "source": [
    "test= pd.read_csv('test.csv',index_col=0)\n",
    "test[test.duplicated(keep=False)].sort_values(list(test.columns))"
   ]
  },
  {
   "cell_type": "markdown",
   "id": "b9bab420",
   "metadata": {},
   "source": [
    "There are duplicate values in test data as well"
   ]
  },
  {
   "cell_type": "code",
   "execution_count": 28,
   "id": "1e34ea90",
   "metadata": {},
   "outputs": [
    {
     "data": {
      "image/png": "[encoded data removed]",
      "text/plain": [
       "<Figure size 640x480 with 1 Axes>"
      ]
     },
     "metadata": {},
     "output_type": "display_data"
    },
    {
     "name": "stdout",
     "output_type": "stream",
     "text": [
      "Mean:  97966.41375914778\n",
      "Median:  66408.0\n",
      "Standard Deviation:  90622.72757011706\n"
     ]
    }
   ],
   "source": [
    "# Understand the distribution of the target variable 'cltv'\n",
    "plt.hist(y)\n",
    "plt.xlabel('cltv')\n",
    "plt.ylabel('Frequency')\n",
    "plt.title('Distribution of cltv')\n",
    "plt.show()\n",
    "print(\"Mean: \", y.mean())\n",
    "print(\"Median: \", y.median())\n",
    "print(\"Standard Deviation: \", y.std())"
   ]
  },
  {
   "cell_type": "markdown",
   "id": "f9d4ed87",
   "metadata": {},
   "source": [
    "Distribution of y is leftword skewed, as we are training 'r2' as accuracy it will negatively affect our model"
   ]
  },
  {
   "cell_type": "code",
   "execution_count": 29,
   "id": "76eae668",
   "metadata": {},
   "outputs": [],
   "source": [
    "# converting marital status into category for analysis\n",
    "\n",
    "X.marital_status=X.marital_status.astype('object')\n",
    "test.marital_status=test.marital_status.astype('object')"
   ]
  },
  {
   "cell_type": "code",
   "execution_count": 30,
   "id": "07a5edac",
   "metadata": {},
   "outputs": [
    {
     "name": "stdout",
     "output_type": "stream",
     "text": [
      "<class 'pandas.core.frame.DataFrame'>\n",
      "Int64Index: 89366 entries, 1 to 89392\n",
      "Data columns (total 10 columns):\n",
      " #   Column          Non-Null Count  Dtype \n",
      "---  ------          --------------  ----- \n",
      " 0   gender          89366 non-null  object\n",
      " 1   area            89366 non-null  object\n",
      " 2   qualification   89366 non-null  object\n",
      " 3   income          89366 non-null  object\n",
      " 4   marital_status  89366 non-null  object\n",
      " 5   vintage         89366 non-null  int64 \n",
      " 6   claim_amount    89366 non-null  int64 \n",
      " 7   num_policies    89366 non-null  object\n",
      " 8   policy          89366 non-null  object\n",
      " 9   type_of_policy  89366 non-null  object\n",
      "dtypes: int64(2), object(8)\n",
      "memory usage: 7.5+ MB\n"
     ]
    }
   ],
   "source": [
    "X.info()"
   ]
  },
  {
   "cell_type": "code",
   "execution_count": 35,
   "id": "e5490f16",
   "metadata": {},
   "outputs": [
    {
     "name": "stdout",
     "output_type": "stream",
     "text": [
      "Male      50484\n",
      "Female    38882\n",
      "Name: gender, dtype: int64 \n",
      "\n",
      "Urban    62450\n",
      "Rural    26916\n",
      "Name: area, dtype: int64 \n",
      "\n",
      "High School    46233\n",
      "Bachelor       39387\n",
      "Others          3746\n",
      "Name: qualification, dtype: int64 \n",
      "\n",
      "5L-10L           52693\n",
      "2L-5L            21158\n",
      "More than 10L    13661\n",
      "<=2L              1854\n",
      "Name: income, dtype: int64 \n",
      "\n",
      "More than 1    60254\n",
      "1              29112\n",
      "Name: num_policies, dtype: int64 \n",
      "\n",
      "A    56627\n",
      "B    24626\n",
      "C     8113\n",
      "Name: policy, dtype: int64 \n",
      "\n",
      "Platinum    47777\n",
      "Silver      21005\n",
      "Gold        20584\n",
      "Name: type_of_policy, dtype: int64 \n",
      "\n"
     ]
    }
   ],
   "source": [
    "for column in df.select_dtypes('object').columns:\n",
    "    print(df[column].value_counts(),'\\n')"
   ]
  },
  {
   "cell_type": "markdown",
   "id": "e63a0e1d",
   "metadata": {},
   "source": [
    "The data demonstrates a higher proportion of individuals residing in urban areas, with an income between 5L-10L, holding multiple policies, and predominantly purchasing A policies of the Platinum type."
   ]
  },
  {
   "cell_type": "markdown",
   "id": "cbb47235",
   "metadata": {},
   "source": [
    "Does not contain any missing values"
   ]
  },
  {
   "cell_type": "code",
   "execution_count": 31,
   "id": "2b2d7576",
   "metadata": {},
   "outputs": [
    {
     "data": {
      "image/png": "[encoded data removed]",
      "text/plain": [
       "<Figure size 640x480 with 1 Axes>"
      ]
     },
     "metadata": {},
     "output_type": "display_data"
    }
   ],
   "source": [
    "# Analyze the relationship between 'cltv' and other independent variables\n",
    "\n",
    "sns.barplot(x='area', y='cltv', data=df)\n",
    "plt.show()"
   ]
  },
  {
   "cell_type": "code",
   "execution_count": 32,
   "id": "e77523b6",
   "metadata": {},
   "outputs": [
    {
     "data": {
      "image/png": "[encoded data removed]",
      "text/plain": [
       "<Figure size 640x480 with 1 Axes>"
      ]
     },
     "metadata": {},
     "output_type": "display_data"
    }
   ],
   "source": [
    "sns.barplot(x='num_policies', y='cltv', data=df)\n",
    "plt.show()"
   ]
  },
  {
   "cell_type": "markdown",
   "id": "eb3673d0",
   "metadata": {},
   "source": [
    "Number of policies and area in which customer lives have huge impact on customer life time value"
   ]
  },
  {
   "cell_type": "code",
   "execution_count": 33,
   "id": "046f6b95",
   "metadata": {},
   "outputs": [
    {
     "data": {
      "image/png": "[encoded data removed]",
      "text/plain": [
       "<Figure size 640x480 with 1 Axes>"
      ]
     },
     "metadata": {},
     "output_type": "display_data"
    }
   ],
   "source": [
    "sns.barplot(x='qualification', y='cltv', data=df)\n",
    "plt.show()"
   ]
  },
  {
   "cell_type": "markdown",
   "id": "d4ecff40",
   "metadata": {},
   "source": [
    "Others are very small in number,so not much useful"
   ]
  },
  {
   "cell_type": "code",
   "execution_count": 16,
   "id": "26f3adb0",
   "metadata": {},
   "outputs": [
    {
     "data": {
      "image/png": "[encoded data removed]",
      "text/plain": [
       "<Figure size 640x480 with 1 Axes>"
      ]
     },
     "metadata": {},
     "output_type": "display_data"
    }
   ],
   "source": [
    "# Look for patterns in the data\n",
    "sns.boxplot(x='claim_amount', data=df)\n",
    "plt.show()\n"
   ]
  },
  {
   "cell_type": "code",
   "execution_count": 17,
   "id": "50355902",
   "metadata": {},
   "outputs": [
    {
     "data": {
      "image/png": "[encoded data removed]",
      "text/plain": [
       "<Figure size 640x480 with 2 Axes>"
      ]
     },
     "metadata": {},
     "output_type": "display_data"
    }
   ],
   "source": [
    "# Study the correlation between independent variables and 'cltv'\n",
    "corr = df.corr()\n",
    "sns.heatmap(corr, annot=True)\n",
    "plt.show()\n"
   ]
  },
  {
   "cell_type": "markdown",
   "id": "d17bdfd2",
   "metadata": {},
   "source": [
    "There is some correlation between claim amount and cltv"
   ]
  },
  {
   "cell_type": "code",
   "execution_count": 18,
   "id": "d3e82475",
   "metadata": {},
   "outputs": [
    {
     "name": "stdout",
     "output_type": "stream",
     "text": [
      "area    Rural  Urban\n",
      "gender              \n",
      "Female  12573  26309\n",
      "Male    14343  36141 \n",
      "\n",
      "qualification  Bachelor  High School  Others\n",
      "gender                                      \n",
      "Female            16343        20870    1669\n",
      "Male              23044        25363    2077 \n",
      "\n",
      "income  2L-5L  5L-10L  <=2L  More than 10L\n",
      "gender                                    \n",
      "Female   9493   22210  1038           6141\n",
      "Male    11665   30483   816           7520 \n",
      "\n",
      "marital_status      0      1\n",
      "gender                      \n",
      "Female          18053  20829\n",
      "Male            19889  30595 \n",
      "\n",
      "num_policies      1  More than 1\n",
      "gender                          \n",
      "Female        11570        27312\n",
      "Male          17542        32942 \n",
      "\n",
      "policy      A      B     C\n",
      "gender                    \n",
      "Female  24801  10649  3432\n",
      "Male    31826  13977  4681 \n",
      "\n",
      "type_of_policy   Gold  Platinum  Silver\n",
      "gender                                 \n",
      "Female           8969     20436    9477\n",
      "Male            11615     27341   11528 \n",
      "\n",
      "qualification  Bachelor  High School  Others\n",
      "area                                        \n",
      "Rural             12735        12714    1467\n",
      "Urban             26652        33519    2279 \n",
      "\n",
      "income  2L-5L  5L-10L  <=2L  More than 10L\n",
      "area                                      \n",
      "Rural    2810   17619    15           6472\n",
      "Urban   18348   35074  1839           7189 \n",
      "\n",
      "marital_status      0      1\n",
      "area                        \n",
      "Rural           10441  16475\n",
      "Urban           27501  34949 \n",
      "\n",
      "num_policies      1  More than 1\n",
      "area                            \n",
      "Rural         11107        15809\n",
      "Urban         18005        44445 \n",
      "\n",
      "policy      A      B     C\n",
      "area                      \n",
      "Rural   14001  10644  2271\n",
      "Urban   42626  13982  5842 \n",
      "\n",
      "type_of_policy   Gold  Platinum  Silver\n",
      "area                                   \n",
      "Rural            5967     14082    6867\n",
      "Urban           14617     33695   14138 \n",
      "\n",
      "income         2L-5L  5L-10L  <=2L  More than 10L\n",
      "qualification                                    \n",
      "Bachelor        9456   22985   753           6193\n",
      "High School    10871   27530  1023           6809\n",
      "Others           831    2178    78            659 \n",
      "\n",
      "marital_status      0      1\n",
      "qualification               \n",
      "Bachelor        16379  23008\n",
      "High School     20001  26232\n",
      "Others           1562   2184 \n",
      "\n",
      "num_policies       1  More than 1\n",
      "qualification                    \n",
      "Bachelor       12343        27044\n",
      "High School    14940        31293\n",
      "Others          1829         1917 \n",
      "\n",
      "policy             A      B     C\n",
      "qualification                    \n",
      "Bachelor       23811  12442  3134\n",
      "High School    30648  11021  4564\n",
      "Others          2168   1163   415 \n",
      "\n",
      "type_of_policy   Gold  Platinum  Silver\n",
      "qualification                          \n",
      "Bachelor         8690     20627   10070\n",
      "High School     10915     25478    9840\n",
      "Others            979      1672    1095 \n",
      "\n",
      "marital_status      0      1\n",
      "income                      \n",
      "2L-5L            9940  11218\n",
      "5L-10L          21222  31471\n",
      "<=2L              847   1007\n",
      "More than 10L    5933   7728 \n",
      "\n",
      "num_policies       1  More than 1\n",
      "income                           \n",
      "2L-5L           5538        15620\n",
      "5L-10L         18367        34326\n",
      "<=2L             419         1435\n",
      "More than 10L   4788         8873 \n",
      "\n",
      "policy             A      B     C\n",
      "income                           \n",
      "2L-5L          11580   7487  2091\n",
      "5L-10L         35345  12598  4750\n",
      "<=2L            1399    278   177\n",
      "More than 10L   8303   4263  1095 \n",
      "\n",
      "type_of_policy   Gold  Platinum  Silver\n",
      "income                                 \n",
      "2L-5L            4462     10908    5788\n",
      "5L-10L          12542     28594   11557\n",
      "<=2L              294      1042     518\n",
      "More than 10L    3286      7233    3142 \n",
      "\n",
      "num_policies        1  More than 1\n",
      "marital_status                    \n",
      "0               10656        27286\n",
      "1               18456        32968 \n",
      "\n",
      "policy              A      B     C\n",
      "marital_status                    \n",
      "0               23407  11300  3235\n",
      "1               33220  13326  4878 \n",
      "\n",
      "type_of_policy   Gold  Platinum  Silver\n",
      "marital_status                         \n",
      "0                8471     20628    8843\n",
      "1               12113     27149   12162 \n",
      "\n",
      "policy            A      B     C\n",
      "num_policies                    \n",
      "1             18414   7817  2881\n",
      "More than 1   38213  16809  5232 \n",
      "\n",
      "type_of_policy   Gold  Platinum  Silver\n",
      "num_policies                           \n",
      "1                6757     14502    7853\n",
      "More than 1     13827     33275   13152 \n",
      "\n",
      "type_of_policy   Gold  Platinum  Silver\n",
      "policy                                 \n",
      "A               13702     31732   11193\n",
      "B                4533     12539    7554\n",
      "C                2349      3506    2258 \n",
      "\n"
     ]
    }
   ],
   "source": [
    "import itertools\n",
    "import pandas as pd\n",
    "\n",
    "# Select only categorical variables from the dataframe\n",
    "categorical_vars = X.select_dtypes(include=['object', 'category'])\n",
    "\n",
    "# Get all combinations of pairs of variables\n",
    "combinations = list(itertools.combinations(categorical_vars.columns, 2))\n",
    "\n",
    "# Iterate over all pairs of variables and create a cross-table\n",
    "for var1, var2 in combinations:\n",
    "    cross_table = pd.crosstab(categorical_vars[var1], categorical_vars[var2])\n",
    "    print(cross_table,'\\n')"
   ]
  },
  {
   "cell_type": "code",
   "execution_count": null,
   "id": "5e361c80",
   "metadata": {},
   "outputs": [],
   "source": []
  },
  {
   "cell_type": "code",
   "execution_count": null,
   "id": "aa572b25",
   "metadata": {},
   "outputs": [],
   "source": []
  }
 ],
 "metadata": {
  "kernelspec": {
   "display_name": "Python 3 (ipykernel)",
   "language": "python",
   "name": "python3"
  },
  "language_info": {
   "codemirror_mode": {
    "name": "ipython",
    "version": 3
   },
   "file_extension": ".py",
   "mimetype": "text/x-python",
   "name": "python",
   "nbconvert_exporter": "python",
   "pygments_lexer": "ipython3",
   "version": "3.9.13"
  }
 },
 "nbformat": 4,
 "nbformat_minor": 5
}
